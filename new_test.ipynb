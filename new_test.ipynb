{
 "metadata": {
  "language_info": {
   "codemirror_mode": {
    "name": "ipython",
    "version": 3
   },
   "file_extension": ".py",
   "mimetype": "text/x-python",
   "name": "python",
   "nbconvert_exporter": "python",
   "pygments_lexer": "ipython3",
   "version": "3.7.6-final"
  },
  "orig_nbformat": 2,
  "kernelspec": {
   "name": "python3",
   "display_name": "Python 3",
   "language": "python"
  }
 },
 "nbformat": 4,
 "nbformat_minor": 2,
 "cells": [
  {
   "cell_type": "code",
   "execution_count": 1,
   "metadata": {},
   "outputs": [],
   "source": [
    "from flask import Flask, jsonify, render_template                     #imports Flask CLASS and jsonify funct\n",
    "from flask_cors import CORS\n",
    "import yfinance as yf\n",
    "import os\n",
    "from flask_sqlalchemy import SQLAlchemy\n",
    "import pandas as pd\n",
    "import time\n",
    "from sqlalchemy import create_engine, inspect\n",
    "from sqlalchemy.ext.automap import automap_base\n",
    "from sqlalchemy.orm import Session\n",
    "from config import sql_PASS, sql_USER, sql_HOST"
   ]
  },
  {
   "cell_type": "code",
   "execution_count": 4,
   "metadata": {},
   "outputs": [],
   "source": [
    "engine = create_engine(f\"postgres://{sql_USER}:{sql_PASS}@{sql_HOST}:5432/detlgil9o37p0\")"
   ]
  },
  {
   "cell_type": "code",
   "execution_count": 5,
   "metadata": {},
   "outputs": [],
   "source": [
    "top5_df = pd.read_html('https://finance.yahoo.com/most-active')[0]\n",
    "search = ''\n",
    "searchList = []\n",
    "count = 0\n",
    "while count<5:\n",
    "    search += top5_df['Symbol'].iloc[count] + ' '\n",
    "    searchList.append(top5_df['Symbol'].iloc[count])\n",
    "    count+=1\n",
    "tickers = yf.Tickers(search)\n",
    "stockDict = {}\n",
    "for name in tickers.tickers:\n",
    "    stockSingle_df = name.history().iloc[:,range(0,5)]\n",
    "    time.sleep(0.1)\n",
    "    symbol = name.info['symbol']\n",
    "    stockDict.update({symbol:stockSingle_df})\n",
    "for (ticker, df) in stockDict.items():\n",
    "    df.to_sql(ticker, engine, if_exists='replace')"
   ]
  },
  {
   "cell_type": "code",
   "execution_count": 6,
   "metadata": {},
   "outputs": [
    {
     "output_type": "execute_result",
     "data": {
      "text/plain": [
       "   Symbol                          Name  Price (Intraday)   Change % Change  \\\n",
       "0    FCEL         FuelCell Energy, Inc.           13.1000   2.3500  +21.89%   \n",
       "1     NIO                   NIO Limited           47.0500  -0.5300   -1.11%   \n",
       "2    AAPL                    Apple Inc.          131.9300   0.0500   +0.04%   \n",
       "3     AAL  American Airlines Group Inc.           15.9000   0.4300   +2.75%   \n",
       "4    PLTR    Palantir Technologies Inc.           28.9100   0.8700   +3.11%   \n",
       "5    FEYE                 FireEye, Inc.           24.4600   2.0600   +9.20%   \n",
       "6      GE      General Electric Company           10.8900   0.2800   +2.64%   \n",
       "7    MRNA                 Moderna, Inc.          130.4200   4.5400   +3.61%   \n",
       "8    PLUG               Plug Power Inc.           36.0600   0.3700   +1.04%   \n",
       "9       F            Ford Motor Company            8.9900   0.2000   +2.28%   \n",
       "10    BAC   Bank of America Corporation           30.1400   0.9300   +3.18%   \n",
       "11   TSLA                   Tesla, Inc.          647.1600   6.8200   +1.07%   \n",
       "12   SRNE   Sorrento Therapeutics, Inc.            8.2100   0.9900  +13.75%   \n",
       "13   NKLA            Nikola Corporation           15.0900  -1.7400  -10.37%   \n",
       "14    CCL    Carnival Corporation & Plc           20.8400   1.0300   +5.20%   \n",
       "15    SWN   Southwestern Energy Company            3.6500   0.3400  +10.27%   \n",
       "16    PFE                   Pfizer Inc.           37.5300   0.7800   +2.14%   \n",
       "17    MRO      Marathon Oil Corporation            6.7400   0.4300   +6.89%   \n",
       "18   ITUB    Itaú Unibanco Holding S.A.            6.1400   0.0800   +1.32%   \n",
       "19    WFC         Wells Fargo & Company           30.1100   1.1600   +3.99%   \n",
       "20     QS      QuantumScape Corporation          117.7500 -13.9200  -10.57%   \n",
       "21      T                     AT&T Inc.           28.7400   0.3400   +1.18%   \n",
       "22   RIDE        Lordstown Motors Corp.           23.0600   2.5400  +12.38%   \n",
       "23    NOK             Nokia Corporation            3.8962   0.0162   +0.42%   \n",
       "24    AMD  Advanced Micro Devices, Inc.           91.8600  -1.3000   -1.40%   \n",
       "\n",
       "     Volume Avg Vol (3 month) Market Cap  PE Ratio (TTM)  52 Week Range  \n",
       "0   95.221M            52.74M     4.223B             NaN            NaN  \n",
       "1   57.834M          171.662M    73.351B             NaN            NaN  \n",
       "2   49.353M          118.828M     2.243T           40.22            NaN  \n",
       "3   45.947M           76.716M     9.714B             NaN            NaN  \n",
       "4   42.759M           66.265M    54.295B             NaN            NaN  \n",
       "5   31.567M            6.647M     5.737B             NaN            NaN  \n",
       "6   30.781M          105.203M    95.395B           30.94            NaN  \n",
       "7   28.551M           19.095M    51.608B             NaN            NaN  \n",
       "8   27.641M           33.877M    14.986B             NaN            NaN  \n",
       "9   25.943M           65.077M    35.766B             NaN            NaN  \n",
       "10  25.365M           58.126M   260.735B           14.85            NaN  \n",
       "11  22.467M            47.13M   613.444B         1237.40            NaN  \n",
       "12  22.326M           16.345M     2.248B             NaN            NaN  \n",
       "13  22.112M           24.806M     5.794B             NaN            NaN  \n",
       "14  21.964M           51.046M    23.008B             NaN            NaN  \n",
       "15  21.723M           16.234M     2.462B             NaN            NaN  \n",
       "16  21.058M           43.076M   208.579B           24.40            NaN  \n",
       "17  19.691M           30.167M     5.324B             NaN            NaN  \n",
       "18  19.419M           36.326M    56.866B            9.59            NaN  \n",
       "19  18.258M           39.605M    124.51B           79.04            NaN  \n",
       "20  18.236M            6.896M    42.739B             NaN            NaN  \n",
       "21   17.97M           41.325M   204.766B           18.90            NaN  \n",
       "22  17.296M            6.098M     3.804B             NaN            NaN  \n",
       "23  17.067M           30.415M    21.783B             NaN            NaN  \n",
       "24  15.101M           48.286M   110.606B          124.47            NaN  "
      ],
      "text/html": "<div>\n<style scoped>\n    .dataframe tbody tr th:only-of-type {\n        vertical-align: middle;\n    }\n\n    .dataframe tbody tr th {\n        vertical-align: top;\n    }\n\n    .dataframe thead th {\n        text-align: right;\n    }\n</style>\n<table border=\"1\" class=\"dataframe\">\n  <thead>\n    <tr style=\"text-align: right;\">\n      <th></th>\n      <th>Symbol</th>\n      <th>Name</th>\n      <th>Price (Intraday)</th>\n      <th>Change</th>\n      <th>% Change</th>\n      <th>Volume</th>\n      <th>Avg Vol (3 month)</th>\n      <th>Market Cap</th>\n      <th>PE Ratio (TTM)</th>\n      <th>52 Week Range</th>\n    </tr>\n  </thead>\n  <tbody>\n    <tr>\n      <th>0</th>\n      <td>FCEL</td>\n      <td>FuelCell Energy, Inc.</td>\n      <td>13.1000</td>\n      <td>2.3500</td>\n      <td>+21.89%</td>\n      <td>95.221M</td>\n      <td>52.74M</td>\n      <td>4.223B</td>\n      <td>NaN</td>\n      <td>NaN</td>\n    </tr>\n    <tr>\n      <th>1</th>\n      <td>NIO</td>\n      <td>NIO Limited</td>\n      <td>47.0500</td>\n      <td>-0.5300</td>\n      <td>-1.11%</td>\n      <td>57.834M</td>\n      <td>171.662M</td>\n      <td>73.351B</td>\n      <td>NaN</td>\n      <td>NaN</td>\n    </tr>\n    <tr>\n      <th>2</th>\n      <td>AAPL</td>\n      <td>Apple Inc.</td>\n      <td>131.9300</td>\n      <td>0.0500</td>\n      <td>+0.04%</td>\n      <td>49.353M</td>\n      <td>118.828M</td>\n      <td>2.243T</td>\n      <td>40.22</td>\n      <td>NaN</td>\n    </tr>\n    <tr>\n      <th>3</th>\n      <td>AAL</td>\n      <td>American Airlines Group Inc.</td>\n      <td>15.9000</td>\n      <td>0.4300</td>\n      <td>+2.75%</td>\n      <td>45.947M</td>\n      <td>76.716M</td>\n      <td>9.714B</td>\n      <td>NaN</td>\n      <td>NaN</td>\n    </tr>\n    <tr>\n      <th>4</th>\n      <td>PLTR</td>\n      <td>Palantir Technologies Inc.</td>\n      <td>28.9100</td>\n      <td>0.8700</td>\n      <td>+3.11%</td>\n      <td>42.759M</td>\n      <td>66.265M</td>\n      <td>54.295B</td>\n      <td>NaN</td>\n      <td>NaN</td>\n    </tr>\n    <tr>\n      <th>5</th>\n      <td>FEYE</td>\n      <td>FireEye, Inc.</td>\n      <td>24.4600</td>\n      <td>2.0600</td>\n      <td>+9.20%</td>\n      <td>31.567M</td>\n      <td>6.647M</td>\n      <td>5.737B</td>\n      <td>NaN</td>\n      <td>NaN</td>\n    </tr>\n    <tr>\n      <th>6</th>\n      <td>GE</td>\n      <td>General Electric Company</td>\n      <td>10.8900</td>\n      <td>0.2800</td>\n      <td>+2.64%</td>\n      <td>30.781M</td>\n      <td>105.203M</td>\n      <td>95.395B</td>\n      <td>30.94</td>\n      <td>NaN</td>\n    </tr>\n    <tr>\n      <th>7</th>\n      <td>MRNA</td>\n      <td>Moderna, Inc.</td>\n      <td>130.4200</td>\n      <td>4.5400</td>\n      <td>+3.61%</td>\n      <td>28.551M</td>\n      <td>19.095M</td>\n      <td>51.608B</td>\n      <td>NaN</td>\n      <td>NaN</td>\n    </tr>\n    <tr>\n      <th>8</th>\n      <td>PLUG</td>\n      <td>Plug Power Inc.</td>\n      <td>36.0600</td>\n      <td>0.3700</td>\n      <td>+1.04%</td>\n      <td>27.641M</td>\n      <td>33.877M</td>\n      <td>14.986B</td>\n      <td>NaN</td>\n      <td>NaN</td>\n    </tr>\n    <tr>\n      <th>9</th>\n      <td>F</td>\n      <td>Ford Motor Company</td>\n      <td>8.9900</td>\n      <td>0.2000</td>\n      <td>+2.28%</td>\n      <td>25.943M</td>\n      <td>65.077M</td>\n      <td>35.766B</td>\n      <td>NaN</td>\n      <td>NaN</td>\n    </tr>\n    <tr>\n      <th>10</th>\n      <td>BAC</td>\n      <td>Bank of America Corporation</td>\n      <td>30.1400</td>\n      <td>0.9300</td>\n      <td>+3.18%</td>\n      <td>25.365M</td>\n      <td>58.126M</td>\n      <td>260.735B</td>\n      <td>14.85</td>\n      <td>NaN</td>\n    </tr>\n    <tr>\n      <th>11</th>\n      <td>TSLA</td>\n      <td>Tesla, Inc.</td>\n      <td>647.1600</td>\n      <td>6.8200</td>\n      <td>+1.07%</td>\n      <td>22.467M</td>\n      <td>47.13M</td>\n      <td>613.444B</td>\n      <td>1237.40</td>\n      <td>NaN</td>\n    </tr>\n    <tr>\n      <th>12</th>\n      <td>SRNE</td>\n      <td>Sorrento Therapeutics, Inc.</td>\n      <td>8.2100</td>\n      <td>0.9900</td>\n      <td>+13.75%</td>\n      <td>22.326M</td>\n      <td>16.345M</td>\n      <td>2.248B</td>\n      <td>NaN</td>\n      <td>NaN</td>\n    </tr>\n    <tr>\n      <th>13</th>\n      <td>NKLA</td>\n      <td>Nikola Corporation</td>\n      <td>15.0900</td>\n      <td>-1.7400</td>\n      <td>-10.37%</td>\n      <td>22.112M</td>\n      <td>24.806M</td>\n      <td>5.794B</td>\n      <td>NaN</td>\n      <td>NaN</td>\n    </tr>\n    <tr>\n      <th>14</th>\n      <td>CCL</td>\n      <td>Carnival Corporation &amp; Plc</td>\n      <td>20.8400</td>\n      <td>1.0300</td>\n      <td>+5.20%</td>\n      <td>21.964M</td>\n      <td>51.046M</td>\n      <td>23.008B</td>\n      <td>NaN</td>\n      <td>NaN</td>\n    </tr>\n    <tr>\n      <th>15</th>\n      <td>SWN</td>\n      <td>Southwestern Energy Company</td>\n      <td>3.6500</td>\n      <td>0.3400</td>\n      <td>+10.27%</td>\n      <td>21.723M</td>\n      <td>16.234M</td>\n      <td>2.462B</td>\n      <td>NaN</td>\n      <td>NaN</td>\n    </tr>\n    <tr>\n      <th>16</th>\n      <td>PFE</td>\n      <td>Pfizer Inc.</td>\n      <td>37.5300</td>\n      <td>0.7800</td>\n      <td>+2.14%</td>\n      <td>21.058M</td>\n      <td>43.076M</td>\n      <td>208.579B</td>\n      <td>24.40</td>\n      <td>NaN</td>\n    </tr>\n    <tr>\n      <th>17</th>\n      <td>MRO</td>\n      <td>Marathon Oil Corporation</td>\n      <td>6.7400</td>\n      <td>0.4300</td>\n      <td>+6.89%</td>\n      <td>19.691M</td>\n      <td>30.167M</td>\n      <td>5.324B</td>\n      <td>NaN</td>\n      <td>NaN</td>\n    </tr>\n    <tr>\n      <th>18</th>\n      <td>ITUB</td>\n      <td>Itaú Unibanco Holding S.A.</td>\n      <td>6.1400</td>\n      <td>0.0800</td>\n      <td>+1.32%</td>\n      <td>19.419M</td>\n      <td>36.326M</td>\n      <td>56.866B</td>\n      <td>9.59</td>\n      <td>NaN</td>\n    </tr>\n    <tr>\n      <th>19</th>\n      <td>WFC</td>\n      <td>Wells Fargo &amp; Company</td>\n      <td>30.1100</td>\n      <td>1.1600</td>\n      <td>+3.99%</td>\n      <td>18.258M</td>\n      <td>39.605M</td>\n      <td>124.51B</td>\n      <td>79.04</td>\n      <td>NaN</td>\n    </tr>\n    <tr>\n      <th>20</th>\n      <td>QS</td>\n      <td>QuantumScape Corporation</td>\n      <td>117.7500</td>\n      <td>-13.9200</td>\n      <td>-10.57%</td>\n      <td>18.236M</td>\n      <td>6.896M</td>\n      <td>42.739B</td>\n      <td>NaN</td>\n      <td>NaN</td>\n    </tr>\n    <tr>\n      <th>21</th>\n      <td>T</td>\n      <td>AT&amp;T Inc.</td>\n      <td>28.7400</td>\n      <td>0.3400</td>\n      <td>+1.18%</td>\n      <td>17.97M</td>\n      <td>41.325M</td>\n      <td>204.766B</td>\n      <td>18.90</td>\n      <td>NaN</td>\n    </tr>\n    <tr>\n      <th>22</th>\n      <td>RIDE</td>\n      <td>Lordstown Motors Corp.</td>\n      <td>23.0600</td>\n      <td>2.5400</td>\n      <td>+12.38%</td>\n      <td>17.296M</td>\n      <td>6.098M</td>\n      <td>3.804B</td>\n      <td>NaN</td>\n      <td>NaN</td>\n    </tr>\n    <tr>\n      <th>23</th>\n      <td>NOK</td>\n      <td>Nokia Corporation</td>\n      <td>3.8962</td>\n      <td>0.0162</td>\n      <td>+0.42%</td>\n      <td>17.067M</td>\n      <td>30.415M</td>\n      <td>21.783B</td>\n      <td>NaN</td>\n      <td>NaN</td>\n    </tr>\n    <tr>\n      <th>24</th>\n      <td>AMD</td>\n      <td>Advanced Micro Devices, Inc.</td>\n      <td>91.8600</td>\n      <td>-1.3000</td>\n      <td>-1.40%</td>\n      <td>15.101M</td>\n      <td>48.286M</td>\n      <td>110.606B</td>\n      <td>124.47</td>\n      <td>NaN</td>\n    </tr>\n  </tbody>\n</table>\n</div>"
     },
     "metadata": {},
     "execution_count": 6
    }
   ],
   "source": [
    "top5_df"
   ]
  },
  {
   "cell_type": "code",
   "execution_count": 8,
   "metadata": {},
   "outputs": [
    {
     "output_type": "execute_result",
     "data": {
      "text/plain": [
       "  Symbol                          Name  Price (Intraday)  Change % Change  \\\n",
       "0   FCEL         FuelCell Energy, Inc.             13.10    2.35  +21.89%   \n",
       "1    NIO                   NIO Limited             47.05   -0.53   -1.11%   \n",
       "2   AAPL                    Apple Inc.            131.93    0.05   +0.04%   \n",
       "3    AAL  American Airlines Group Inc.             15.90    0.43   +2.75%   \n",
       "4   PLTR    Palantir Technologies Inc.             28.91    0.87   +3.11%   \n",
       "\n",
       "    Volume Avg Vol (3 month) Market Cap  PE Ratio (TTM)  52 Week Range  \n",
       "0  95.221M            52.74M     4.223B             NaN            NaN  \n",
       "1  57.834M          171.662M    73.351B             NaN            NaN  \n",
       "2  49.353M          118.828M     2.243T           40.22            NaN  \n",
       "3  45.947M           76.716M     9.714B             NaN            NaN  \n",
       "4  42.759M           66.265M    54.295B             NaN            NaN  "
      ],
      "text/html": "<div>\n<style scoped>\n    .dataframe tbody tr th:only-of-type {\n        vertical-align: middle;\n    }\n\n    .dataframe tbody tr th {\n        vertical-align: top;\n    }\n\n    .dataframe thead th {\n        text-align: right;\n    }\n</style>\n<table border=\"1\" class=\"dataframe\">\n  <thead>\n    <tr style=\"text-align: right;\">\n      <th></th>\n      <th>Symbol</th>\n      <th>Name</th>\n      <th>Price (Intraday)</th>\n      <th>Change</th>\n      <th>% Change</th>\n      <th>Volume</th>\n      <th>Avg Vol (3 month)</th>\n      <th>Market Cap</th>\n      <th>PE Ratio (TTM)</th>\n      <th>52 Week Range</th>\n    </tr>\n  </thead>\n  <tbody>\n    <tr>\n      <th>0</th>\n      <td>FCEL</td>\n      <td>FuelCell Energy, Inc.</td>\n      <td>13.10</td>\n      <td>2.35</td>\n      <td>+21.89%</td>\n      <td>95.221M</td>\n      <td>52.74M</td>\n      <td>4.223B</td>\n      <td>NaN</td>\n      <td>NaN</td>\n    </tr>\n    <tr>\n      <th>1</th>\n      <td>NIO</td>\n      <td>NIO Limited</td>\n      <td>47.05</td>\n      <td>-0.53</td>\n      <td>-1.11%</td>\n      <td>57.834M</td>\n      <td>171.662M</td>\n      <td>73.351B</td>\n      <td>NaN</td>\n      <td>NaN</td>\n    </tr>\n    <tr>\n      <th>2</th>\n      <td>AAPL</td>\n      <td>Apple Inc.</td>\n      <td>131.93</td>\n      <td>0.05</td>\n      <td>+0.04%</td>\n      <td>49.353M</td>\n      <td>118.828M</td>\n      <td>2.243T</td>\n      <td>40.22</td>\n      <td>NaN</td>\n    </tr>\n    <tr>\n      <th>3</th>\n      <td>AAL</td>\n      <td>American Airlines Group Inc.</td>\n      <td>15.90</td>\n      <td>0.43</td>\n      <td>+2.75%</td>\n      <td>45.947M</td>\n      <td>76.716M</td>\n      <td>9.714B</td>\n      <td>NaN</td>\n      <td>NaN</td>\n    </tr>\n    <tr>\n      <th>4</th>\n      <td>PLTR</td>\n      <td>Palantir Technologies Inc.</td>\n      <td>28.91</td>\n      <td>0.87</td>\n      <td>+3.11%</td>\n      <td>42.759M</td>\n      <td>66.265M</td>\n      <td>54.295B</td>\n      <td>NaN</td>\n      <td>NaN</td>\n    </tr>\n  </tbody>\n</table>\n</div>"
     },
     "metadata": {},
     "execution_count": 8
    }
   ],
   "source": [
    "top5_df = top5_df.iloc[range(0,5)]\n",
    "top5_df"
   ]
  },
  {
   "cell_type": "code",
   "execution_count": null,
   "metadata": {},
   "outputs": [],
   "source": []
  }
 ]
}