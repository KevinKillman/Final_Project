{
 "metadata": {
  "language_info": {
   "codemirror_mode": {
    "name": "ipython",
    "version": 3
   },
   "file_extension": ".py",
   "mimetype": "text/x-python",
   "name": "python",
   "nbconvert_exporter": "python",
   "pygments_lexer": "ipython3",
   "version": "3.7.6-final"
  },
  "orig_nbformat": 2,
  "kernelspec": {
   "name": "python3",
   "display_name": "Python 3",
   "language": "python"
  }
 },
 "nbformat": 4,
 "nbformat_minor": 2,
 "cells": [
  {
   "cell_type": "code",
   "execution_count": 14,
   "metadata": {},
   "outputs": [],
   "source": [
    "from flask import Flask, jsonify, render_template\n",
    "from flask_cors import CORS\n",
    "import yfinance as yf\n",
    "import os\n",
    "from flask_sqlalchemy import SQLAlchemy\n",
    "import pandas as pd\n",
    "\n",
    "# from sqlalchemy import \n",
    "import time\n",
    "from sqlalchemy import create_engine, inspect\n",
    "from sqlalchemy.ext.automap import automap_base\n",
    "from sqlalchemy.orm import Session\n",
    "from config import sql_PASS, sql_USER, sql_HOST\n",
    "\n",
    "# Base = automap_base()\n",
    "# base = Base.prepare(engine, reflect=True)"
   ]
  },
  {
   "cell_type": "code",
   "execution_count": 35,
   "metadata": {},
   "outputs": [],
   "source": [
    "engine = create_engine(f\"postgres://{sql_USER}:{sql_PASS}@{sql_HOST}:5432/detlgil9o37p0\")\n",
    "session = Session(engine)\n",
    "Base.prepare(engine, reflect=True)"
   ]
  },
  {
   "cell_type": "code",
   "execution_count": 36,
   "metadata": {},
   "outputs": [
    {
     "output_type": "stream",
     "name": "stdout",
     "text": [
      "50.86000061035156\n56.9900016784668\n49.97999954223633\n54.86000061035156\n54.209999084472656\n52.02000045776367\n40.15999984741211\n47.900001525878906\n44.65999984741211\n42.5\n47.209999084472656\n47.08000183105469\n42.439998626708984\n42.47999954223633\n39.939998626708984\n42.470001220703125\n44.25\n45.16999816894531\n45.88999938964844\n45.630001068115234\n49.61000061035156\n"
     ]
    }
   ],
   "source": [
    "for result in engine.execute('SELECT * FROM \"NIO\"'):\n",
    "    print(result.Open)"
   ]
  },
  {
   "cell_type": "code",
   "execution_count": 37,
   "metadata": {},
   "outputs": [
    {
     "output_type": "execute_result",
     "data": {
      "text/plain": [
       "[]"
      ]
     },
     "metadata": {},
     "execution_count": 37
    }
   ],
   "source": [
    "Base.classes.keys()"
   ]
  },
  {
   "cell_type": "code",
   "execution_count": 4,
   "metadata": {},
   "outputs": [
    {
     "output_type": "execute_result",
     "data": {
      "text/plain": [
       "  Symbol                          Name  Price (Intraday)  Change % Change  \\\n",
       "0   AAPL                    Apple Inc.            131.88    3.65   +2.85%   \n",
       "1    NIO                   NIO Limited             47.58   -1.37   -2.80%   \n",
       "2   FCEL         FuelCell Energy, Inc.             10.74    1.36  +14.55%   \n",
       "3     GE      General Electric Company             10.61   -0.16   -1.49%   \n",
       "4    AAL  American Airlines Group Inc.             15.48   -0.62   -3.85%   \n",
       "\n",
       "     Volume Avg Vol (3 month) Market Cap  PE Ratio (TTM)  52 Week Range  \n",
       "0  165.746M          119.031M     2.242T           40.21            NaN  \n",
       "1  116.226M          170.782M    74.173B             NaN            NaN  \n",
       "2     93.1M           51.369M     3.464B             NaN            NaN  \n",
       "3   88.876M          106.012M    92.942B           30.14            NaN  \n",
       "4   73.561M           76.061M     9.455B             NaN            NaN  "
      ],
      "text/html": "<div>\n<style scoped>\n    .dataframe tbody tr th:only-of-type {\n        vertical-align: middle;\n    }\n\n    .dataframe tbody tr th {\n        vertical-align: top;\n    }\n\n    .dataframe thead th {\n        text-align: right;\n    }\n</style>\n<table border=\"1\" class=\"dataframe\">\n  <thead>\n    <tr style=\"text-align: right;\">\n      <th></th>\n      <th>Symbol</th>\n      <th>Name</th>\n      <th>Price (Intraday)</th>\n      <th>Change</th>\n      <th>% Change</th>\n      <th>Volume</th>\n      <th>Avg Vol (3 month)</th>\n      <th>Market Cap</th>\n      <th>PE Ratio (TTM)</th>\n      <th>52 Week Range</th>\n    </tr>\n  </thead>\n  <tbody>\n    <tr>\n      <th>0</th>\n      <td>AAPL</td>\n      <td>Apple Inc.</td>\n      <td>131.88</td>\n      <td>3.65</td>\n      <td>+2.85%</td>\n      <td>165.746M</td>\n      <td>119.031M</td>\n      <td>2.242T</td>\n      <td>40.21</td>\n      <td>NaN</td>\n    </tr>\n    <tr>\n      <th>1</th>\n      <td>NIO</td>\n      <td>NIO Limited</td>\n      <td>47.58</td>\n      <td>-1.37</td>\n      <td>-2.80%</td>\n      <td>116.226M</td>\n      <td>170.782M</td>\n      <td>74.173B</td>\n      <td>NaN</td>\n      <td>NaN</td>\n    </tr>\n    <tr>\n      <th>2</th>\n      <td>FCEL</td>\n      <td>FuelCell Energy, Inc.</td>\n      <td>10.74</td>\n      <td>1.36</td>\n      <td>+14.55%</td>\n      <td>93.1M</td>\n      <td>51.369M</td>\n      <td>3.464B</td>\n      <td>NaN</td>\n      <td>NaN</td>\n    </tr>\n    <tr>\n      <th>3</th>\n      <td>GE</td>\n      <td>General Electric Company</td>\n      <td>10.61</td>\n      <td>-0.16</td>\n      <td>-1.49%</td>\n      <td>88.876M</td>\n      <td>106.012M</td>\n      <td>92.942B</td>\n      <td>30.14</td>\n      <td>NaN</td>\n    </tr>\n    <tr>\n      <th>4</th>\n      <td>AAL</td>\n      <td>American Airlines Group Inc.</td>\n      <td>15.48</td>\n      <td>-0.62</td>\n      <td>-3.85%</td>\n      <td>73.561M</td>\n      <td>76.061M</td>\n      <td>9.455B</td>\n      <td>NaN</td>\n      <td>NaN</td>\n    </tr>\n  </tbody>\n</table>\n</div>"
     },
     "metadata": {},
     "execution_count": 4
    }
   ],
   "source": [
    "stock_df = pd.read_html('https://finance.yahoo.com/most-active')[0]\n",
    "stock_df.head()"
   ]
  },
  {
   "cell_type": "code",
   "execution_count": 5,
   "metadata": {},
   "outputs": [
    {
     "output_type": "stream",
     "name": "stdout",
     "text": [
      "Symbol                    AAPL\nName                Apple Inc.\nPrice (Intraday)        131.88\nChange                    3.65\n% Change                +2.85%\nVolume                165.746M\nName: 0, dtype: object\nSymbol                      NIO\nName                NIO Limited\nPrice (Intraday)          47.58\nChange                    -1.37\n% Change                 -2.80%\nVolume                 116.226M\nName: 1, dtype: object\nSymbol                               FCEL\nName                FuelCell Energy, Inc.\nPrice (Intraday)                    10.74\nChange                               1.36\n% Change                          +14.55%\nVolume                              93.1M\nName: 2, dtype: object\nSymbol                                    GE\nName                General Electric Company\nPrice (Intraday)                       10.61\nChange                                 -0.16\n% Change                              -1.49%\nVolume                               88.876M\nName: 3, dtype: object\nSymbol                                       AAL\nName                American Airlines Group Inc.\nPrice (Intraday)                           15.48\nChange                                     -0.62\n% Change                                  -3.85%\nVolume                                   73.561M\nName: 4, dtype: object\n"
     ]
    }
   ],
   "source": [
    "stock_df = stock_df.loc[stock_df.iloc[:,2]<1000]\r\n",
    "top5_df = stock_df.iloc[range(0,5), range(0,6)]\r\n",
    "for (index, row) in top5_df.iterrows():\r\n",
    "    print(row)"
   ]
  },
  {
   "cell_type": "code",
   "execution_count": 7,
   "metadata": {},
   "outputs": [
    {
     "output_type": "execute_result",
     "data": {
      "text/plain": [
       "'AAPL NIO FCEL GE AAL '"
      ]
     },
     "metadata": {},
     "execution_count": 7
    }
   ],
   "source": [
    "search = ''\n",
    "searchList = []\n",
    "count = 0\n",
    "while count<5:\n",
    "    search += top5_df['Symbol'].iloc[count] + ' '\n",
    "    searchList.append(top5_df['Symbol'].iloc[count])\n",
    "    count+=1\n",
    "\n",
    "\n",
    "search"
   ]
  },
  {
   "cell_type": "code",
   "execution_count": 8,
   "metadata": {},
   "outputs": [],
   "source": [
    "tickers = yf.Tickers(search)\n"
   ]
  },
  {
   "cell_type": "code",
   "execution_count": 10,
   "metadata": {},
   "outputs": [],
   "source": [
    "stockDict = {}\n",
    "for name in tickers.tickers:\n",
    "    stockSingle_df = name.history().iloc[:,range(0,5)]\n",
    "    time.sleep(0.1)\n",
    "    symbol = name.info['symbol']\n",
    "    stockDict.update({symbol:stockSingle_df})"
   ]
  },
  {
   "cell_type": "code",
   "execution_count": 11,
   "metadata": {},
   "outputs": [],
   "source": [
    "for (ticker, df) in stockDict.items():\r\n",
    "    df.to_sql(ticker, engine, if_exists='replace')"
   ]
  },
  {
   "cell_type": "code",
   "execution_count": 106,
   "metadata": {},
   "outputs": [
    {
     "output_type": "execute_result",
     "data": {
      "text/plain": [
       "{'NIO':                  Open       High        Low      Close     Volume\n",
       " Date                                                             \n",
       " 2020-11-23  50.860001  55.700001  50.480000  55.380001  270203000\n",
       " 2020-11-24  56.990002  57.200001  51.500000  53.509998  243669700\n",
       " 2020-11-25  49.980000  53.990002  49.250000  53.689999  204508500\n",
       " 2020-11-27  54.860001  55.549999  52.599998  54.000000  105795100\n",
       " 2020-11-30  54.209999  54.389999  48.180000  50.529999  179765400\n",
       " 2020-12-01  52.020000  52.099998  44.049999  45.360001  248227000\n",
       " 2020-12-02  40.160000  48.000000  38.430000  47.980000  313028300\n",
       " 2020-12-03  47.900002  48.650002  45.209999  45.349998  173424000\n",
       " 2020-12-04  44.660000  45.160000  41.650002  43.040001  191969900\n",
       " 2020-12-07  42.500000  46.320000  42.410000  45.110001  165048500\n",
       " 2020-12-08  47.209999  48.299999  45.669998  46.560001  115799600\n",
       " 2020-12-09  47.080002  47.200001  42.959999  44.009998  121387900\n",
       " 2020-12-10  42.439999  45.669998  41.889999  45.220001  107376800\n",
       " 2020-12-11  42.480000  43.630001  41.259998  41.980000  147076100\n",
       " 2020-12-14  39.939999  41.480000  39.509998  40.980000  171598200\n",
       " 2020-12-15  42.470001  43.840000  41.270000  43.500000  132336900\n",
       " 2020-12-16  44.250000  45.259998  43.330002  44.669998  120109600\n",
       " 2020-12-17  45.169998  46.049999  43.900002  46.000000  130003700\n",
       " 2020-12-18  45.889999  48.000000  45.520000  46.720001  125939600\n",
       " 2020-12-21  45.630001  49.490002  45.020000  49.264999  113917030,\n",
       " 'AAPL':                   Open        High         Low       Close     Volume\n",
       " Date                                                                 \n",
       " 2020-11-23  117.180000  117.620003  113.750000  113.849998  127959300\n",
       " 2020-11-24  113.910004  115.849998  112.589996  115.169998  113874200\n",
       " 2020-11-25  115.550003  116.750000  115.169998  116.029999   76499200\n",
       " 2020-11-27  116.570000  117.489998  116.220001  116.589996   46691300\n",
       " 2020-11-30  116.970001  120.970001  116.809998  119.050003  169410200\n",
       " 2020-12-01  121.010002  123.470001  120.010002  122.720001  128166800\n",
       " 2020-12-02  122.019997  123.370003  120.889999  123.080002   89004200\n",
       " 2020-12-03  123.519997  123.779999  122.209999  122.940002   78967600\n",
       " 2020-12-04  122.599998  122.860001  121.519997  122.250000   78260400\n",
       " 2020-12-07  122.309998  124.570000  122.250000  123.750000   86712000\n",
       " 2020-12-08  124.370003  124.980003  123.089996  124.379997   82225500\n",
       " 2020-12-09  124.529999  125.949997  121.000000  121.779999  115089200\n",
       " 2020-12-10  120.500000  123.870003  120.150002  123.239998   81312200\n",
       " 2020-12-11  122.430000  122.760002  120.550003  122.410004   86939800\n",
       " 2020-12-14  122.599998  123.349998  121.540001  121.779999   79184500\n",
       " 2020-12-15  124.339996  127.900002  124.129997  127.879997  157572300\n",
       " 2020-12-16  127.410004  128.369995  126.559998  127.809998   98208600\n",
       " 2020-12-17  128.899994  129.580002  128.039993  128.699997   94359800\n",
       " 2020-12-18  128.960007  129.100006  126.120003  126.660004  192354800\n",
       " 2020-12-21  125.019997  127.279999  123.448997  126.474998   81745206,\n",
       " 'AAL':                  Open       High        Low      Close     Volume\n",
       " Date                                                             \n",
       " 2020-11-23  12.750000  13.580000  12.690000  13.560000  100764000\n",
       " 2020-11-24  14.320000  14.970000  14.080000  14.820000  156501000\n",
       " 2020-11-25  14.770000  15.080000  14.370000  14.940000  101052500\n",
       " 2020-11-27  15.120000  15.560000  14.950000  14.980000   66066400\n",
       " 2020-11-30  14.920000  14.960000  13.930000  14.130000   97536300\n",
       " 2020-12-01  14.420000  14.780000  14.240000  14.270000   76388200\n",
       " 2020-12-02  14.160000  14.860000  13.850000  14.860000   76032800\n",
       " 2020-12-03  15.190000  16.500000  15.160000  16.090000  169287200\n",
       " 2020-12-04  16.400000  16.930000  16.120001  16.400000  117387600\n",
       " 2020-12-07  16.540001  18.070000  16.469999  17.209999  157231900\n",
       " 2020-12-08  17.469999  17.920000  17.160000  17.629999   95855400\n",
       " 2020-12-09  18.370001  18.629999  16.629999  17.160000  138508300\n",
       " 2020-12-10  16.750000  18.040001  16.670000  17.990000   86395200\n",
       " 2020-12-11  17.820000  17.910000  16.809999  17.049999  106957300\n",
       " 2020-12-14  17.520000  17.809999  16.680000  16.700001   88139900\n",
       " 2020-12-15  16.990000  17.059999  16.160000  17.010000   89217000\n",
       " 2020-12-16  16.879999  17.040001  16.580000  16.860001   59232600\n",
       " 2020-12-17  16.950001  16.990000  16.650000  16.799999   49386300\n",
       " 2020-12-18  16.740000  16.740000  16.290001  16.510000   74351300\n",
       " 2020-12-21  15.770000  16.240000  15.560000  16.110001   78544183}"
      ]
     },
     "metadata": {},
     "execution_count": 106
    }
   ],
   "source": []
  },
  {
   "cell_type": "code",
   "execution_count": 86,
   "metadata": {},
   "outputs": [
    {
     "output_type": "execute_result",
     "data": {
      "text/plain": [
       "'NIO'"
      ]
     },
     "metadata": {},
     "execution_count": 86
    }
   ],
   "source": [
    "information = \n",
    "information"
   ]
  },
  {
   "cell_type": "code",
   "execution_count": null,
   "metadata": {},
   "outputs": [],
   "source": []
  }
 ]
}