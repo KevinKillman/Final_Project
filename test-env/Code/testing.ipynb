{
 "metadata": {
  "language_info": {
   "codemirror_mode": {
    "name": "ipython",
    "version": 3
   },
   "file_extension": ".py",
   "mimetype": "text/x-python",
   "name": "python",
   "nbconvert_exporter": "python",
   "pygments_lexer": "ipython3",
   "version": "3.7.6-final"
  },
  "orig_nbformat": 2,
  "kernelspec": {
   "name": "python3",
   "display_name": "Python 3",
   "language": "python"
  }
 },
 "nbformat": 4,
 "nbformat_minor": 2,
 "cells": [
  {
   "cell_type": "code",
   "execution_count": 4,
   "metadata": {},
   "outputs": [
    {
     "output_type": "execute_result",
     "data": {
      "text/plain": [
       "                    Date    Open    High     Low   Close Volume    VWAP\n",
       "0    2021-02-05 20:00:00  6.9000  6.9000  6.8700  6.8700  78379  7.2078\n",
       "1    2021-02-05 19:59:00  6.8900  6.9000  6.8500  6.8900  71285  7.2080\n",
       "2    2021-02-05 19:58:00  6.9000  6.9000  6.8900  6.9000  18352  7.2081\n",
       "3    2021-02-05 19:57:00  6.9000  6.9000  6.8900  6.8900  22332  7.2081\n",
       "4    2021-02-05 19:56:00  6.9000  6.9000  6.8900  6.8900  12591  7.2081\n",
       "...                  ...     ...     ...     ...     ...    ...     ...\n",
       "1899 2021-02-04 04:05:00  8.7300  8.8500  8.7300  8.7300   8728  8.7907\n",
       "1900 2021-02-04 04:04:00  8.7500  8.7500  8.6100  8.7300  13301  8.7944\n",
       "1901 2021-02-04 04:03:00  9.0000  9.0000  8.8000  8.8100  15017  8.8304\n",
       "1902 2021-02-04 04:02:00  8.7200  9.0000  8.7200  9.0000  10942  8.8022\n",
       "1903 2021-02-04 04:01:00  8.6000  8.7500  8.6000  8.7200  10185  8.6900\n",
       "\n",
       "[1904 rows x 7 columns]"
      ],
      "text/html": "<div>\n<style scoped>\n    .dataframe tbody tr th:only-of-type {\n        vertical-align: middle;\n    }\n\n    .dataframe tbody tr th {\n        vertical-align: top;\n    }\n\n    .dataframe thead th {\n        text-align: right;\n    }\n</style>\n<table border=\"1\" class=\"dataframe\">\n  <thead>\n    <tr style=\"text-align: right;\">\n      <th></th>\n      <th>Date</th>\n      <th>Open</th>\n      <th>High</th>\n      <th>Low</th>\n      <th>Close</th>\n      <th>Volume</th>\n      <th>VWAP</th>\n    </tr>\n  </thead>\n  <tbody>\n    <tr>\n      <th>0</th>\n      <td>2021-02-05 20:00:00</td>\n      <td>6.9000</td>\n      <td>6.9000</td>\n      <td>6.8700</td>\n      <td>6.8700</td>\n      <td>78379</td>\n      <td>7.2078</td>\n    </tr>\n    <tr>\n      <th>1</th>\n      <td>2021-02-05 19:59:00</td>\n      <td>6.8900</td>\n      <td>6.9000</td>\n      <td>6.8500</td>\n      <td>6.8900</td>\n      <td>71285</td>\n      <td>7.2080</td>\n    </tr>\n    <tr>\n      <th>2</th>\n      <td>2021-02-05 19:58:00</td>\n      <td>6.9000</td>\n      <td>6.9000</td>\n      <td>6.8900</td>\n      <td>6.9000</td>\n      <td>18352</td>\n      <td>7.2081</td>\n    </tr>\n    <tr>\n      <th>3</th>\n      <td>2021-02-05 19:57:00</td>\n      <td>6.9000</td>\n      <td>6.9000</td>\n      <td>6.8900</td>\n      <td>6.8900</td>\n      <td>22332</td>\n      <td>7.2081</td>\n    </tr>\n    <tr>\n      <th>4</th>\n      <td>2021-02-05 19:56:00</td>\n      <td>6.9000</td>\n      <td>6.9000</td>\n      <td>6.8900</td>\n      <td>6.8900</td>\n      <td>12591</td>\n      <td>7.2081</td>\n    </tr>\n    <tr>\n      <th>...</th>\n      <td>...</td>\n      <td>...</td>\n      <td>...</td>\n      <td>...</td>\n      <td>...</td>\n      <td>...</td>\n      <td>...</td>\n    </tr>\n    <tr>\n      <th>1899</th>\n      <td>2021-02-04 04:05:00</td>\n      <td>8.7300</td>\n      <td>8.8500</td>\n      <td>8.7300</td>\n      <td>8.7300</td>\n      <td>8728</td>\n      <td>8.7907</td>\n    </tr>\n    <tr>\n      <th>1900</th>\n      <td>2021-02-04 04:04:00</td>\n      <td>8.7500</td>\n      <td>8.7500</td>\n      <td>8.6100</td>\n      <td>8.7300</td>\n      <td>13301</td>\n      <td>8.7944</td>\n    </tr>\n    <tr>\n      <th>1901</th>\n      <td>2021-02-04 04:03:00</td>\n      <td>9.0000</td>\n      <td>9.0000</td>\n      <td>8.8000</td>\n      <td>8.8100</td>\n      <td>15017</td>\n      <td>8.8304</td>\n    </tr>\n    <tr>\n      <th>1902</th>\n      <td>2021-02-04 04:02:00</td>\n      <td>8.7200</td>\n      <td>9.0000</td>\n      <td>8.7200</td>\n      <td>9.0000</td>\n      <td>10942</td>\n      <td>8.8022</td>\n    </tr>\n    <tr>\n      <th>1903</th>\n      <td>2021-02-04 04:01:00</td>\n      <td>8.6000</td>\n      <td>8.7500</td>\n      <td>8.6000</td>\n      <td>8.7200</td>\n      <td>10185</td>\n      <td>8.6900</td>\n    </tr>\n  </tbody>\n</table>\n<p>1904 rows × 7 columns</p>\n</div>"
     },
     "metadata": {},
     "execution_count": 4
    }
   ],
   "source": [
    "import os\n",
    "from dotenv import load_dotenv\n",
    "import pandas as pd\n",
    "import yfinance as yf\n",
    "import requests\n",
    "from alpha_vantage.timeseries import TimeSeries\n",
    "import json\n",
    "import datetime as dt\n",
    "\n",
    "load_dotenv()\n",
    "\n",
    "query_functions = ['VWAP','STOCH']\n",
    "\n",
    "def VWAP_data_requests(ticker='AMC', interval='1min'):\n",
    "    key = os.environ.get('alpha_VANTAGE_API')\n",
    "    json = requests.get(f'https://www.alphavantage.co/query?function=VWAP&symbol={ticker}&interval={interval}&outputsize=full&apikey={key}').json()\n",
    "    stock_df = pd.DataFrame(json['Technical Analysis: VWAP'])\n",
    "    stock_df = stock_df.transpose()\n",
    "    json2 = requests.get(f'https://www.alphavantage.co/query?function=TIME_SERIES_INTRADAY&symbol={ticker}&interval={interval}&outputsize=full&apikey={key}').json()\n",
    "    time_df = pd.DataFrame(json2[f'Time Series ({interval})']).transpose()\n",
    "    temp_list = []\n",
    "    for x in stock_df['VWAP']:\n",
    "        temp_list.append(x)\n",
    "    time_df['VWAP'] = temp_list\n",
    "    time_df = time_df.reset_index()\n",
    "    time_df = time_df.rename(columns={'index':'date'})\n",
    "    time_df.columns = ['Date', 'Open', 'High', 'Low', 'Close', 'Volume',\n",
    "        'VWAP']\n",
    "    time_df['Date'] = pd.to_datetime(time_df['Date'])\n",
    "    data = time_df.loc[time_df['Date']>dt.datetime.strptime('2021-02-04', '%Y-%m-%d')]\n",
    "    return data\n",
    "VWAP_data_requests()"
   ]
  },
  {
   "cell_type": "code",
   "execution_count": null,
   "metadata": {},
   "outputs": [],
   "source": []
  }
 ]
}